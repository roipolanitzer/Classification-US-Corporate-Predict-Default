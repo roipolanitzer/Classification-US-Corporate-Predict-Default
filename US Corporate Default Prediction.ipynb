{
 "cells": [
  {
   "cell_type": "code",
   "execution_count": 1,
   "metadata": {},
   "outputs": [],
   "source": [
    "import pandas as pd\n",
    "import numpy as np\n",
    "from sklearn import preprocessing\n",
    "import matplotlib.pyplot as plt \n",
    "plt.rc(\"font\", size=14)\n",
    "from sklearn.linear_model import LogisticRegression\n",
    "from sklearn.model_selection import train_test_split\n",
    "import seaborn as sns\n",
    "sns.set(style=\"white\")\n",
    "sns.set(style=\"whitegrid\", color_codes=True)"
   ]
  },
  {
   "cell_type": "code",
   "execution_count": 2,
   "metadata": {},
   "outputs": [
    {
     "name": "stdout",
     "output_type": "stream",
     "text": [
      "(4000, 8)\n",
      "['Firm ID', 'Year', 'Default', 'WC/TA', 'RE/TA', 'EBIT/TA', 'ME/TA', 'S/TA']\n"
     ]
    }
   ],
   "source": [
    "data = pd.read_csv('US_Corporates_data.csv')\n",
    "print(data.shape)\n",
    "print(list(data.columns))"
   ]
  },
  {
   "cell_type": "code",
   "execution_count": 3,
   "metadata": {},
   "outputs": [
    {
     "data": {
      "text/html": [
       "<div>\n",
       "<style scoped>\n",
       "    .dataframe tbody tr th:only-of-type {\n",
       "        vertical-align: middle;\n",
       "    }\n",
       "\n",
       "    .dataframe tbody tr th {\n",
       "        vertical-align: top;\n",
       "    }\n",
       "\n",
       "    .dataframe thead th {\n",
       "        text-align: right;\n",
       "    }\n",
       "</style>\n",
       "<table border=\"1\" class=\"dataframe\">\n",
       "  <thead>\n",
       "    <tr style=\"text-align: right;\">\n",
       "      <th></th>\n",
       "      <th>Firm ID</th>\n",
       "      <th>Year</th>\n",
       "      <th>Default</th>\n",
       "      <th>WC/TA</th>\n",
       "      <th>RE/TA</th>\n",
       "      <th>EBIT/TA</th>\n",
       "      <th>ME/TA</th>\n",
       "      <th>S/TA</th>\n",
       "    </tr>\n",
       "  </thead>\n",
       "  <tbody>\n",
       "    <tr>\n",
       "      <th>0</th>\n",
       "      <td>1</td>\n",
       "      <td>1999</td>\n",
       "      <td>0</td>\n",
       "      <td>-1.781262</td>\n",
       "      <td>0.064049</td>\n",
       "      <td>2.294712</td>\n",
       "      <td>-1.472263</td>\n",
       "      <td>-0.773069</td>\n",
       "    </tr>\n",
       "    <tr>\n",
       "      <th>1</th>\n",
       "      <td>1</td>\n",
       "      <td>2000</td>\n",
       "      <td>0</td>\n",
       "      <td>-1.244437</td>\n",
       "      <td>1.183653</td>\n",
       "      <td>-0.595172</td>\n",
       "      <td>0.763392</td>\n",
       "      <td>-1.646494</td>\n",
       "    </tr>\n",
       "    <tr>\n",
       "      <th>2</th>\n",
       "      <td>1</td>\n",
       "      <td>2001</td>\n",
       "      <td>0</td>\n",
       "      <td>-1.134030</td>\n",
       "      <td>-0.976710</td>\n",
       "      <td>-0.016250</td>\n",
       "      <td>-0.724449</td>\n",
       "      <td>-0.623595</td>\n",
       "    </tr>\n",
       "    <tr>\n",
       "      <th>3</th>\n",
       "      <td>1</td>\n",
       "      <td>2002</td>\n",
       "      <td>0</td>\n",
       "      <td>-2.064973</td>\n",
       "      <td>1.117935</td>\n",
       "      <td>-0.627693</td>\n",
       "      <td>-0.070710</td>\n",
       "      <td>-1.906346</td>\n",
       "    </tr>\n",
       "    <tr>\n",
       "      <th>4</th>\n",
       "      <td>1</td>\n",
       "      <td>2003</td>\n",
       "      <td>0</td>\n",
       "      <td>-2.171751</td>\n",
       "      <td>-1.019897</td>\n",
       "      <td>-0.092342</td>\n",
       "      <td>-1.362903</td>\n",
       "      <td>-1.209339</td>\n",
       "    </tr>\n",
       "    <tr>\n",
       "      <th>5</th>\n",
       "      <td>1</td>\n",
       "      <td>2004</td>\n",
       "      <td>0</td>\n",
       "      <td>-0.624840</td>\n",
       "      <td>0.409344</td>\n",
       "      <td>1.613159</td>\n",
       "      <td>-0.724717</td>\n",
       "      <td>-0.142589</td>\n",
       "    </tr>\n",
       "    <tr>\n",
       "      <th>6</th>\n",
       "      <td>2</td>\n",
       "      <td>1999</td>\n",
       "      <td>0</td>\n",
       "      <td>-0.156292</td>\n",
       "      <td>-2.279849</td>\n",
       "      <td>-0.908938</td>\n",
       "      <td>-0.706711</td>\n",
       "      <td>0.288755</td>\n",
       "    </tr>\n",
       "    <tr>\n",
       "      <th>7</th>\n",
       "      <td>2</td>\n",
       "      <td>2000</td>\n",
       "      <td>0</td>\n",
       "      <td>-0.298583</td>\n",
       "      <td>0.110922</td>\n",
       "      <td>0.213547</td>\n",
       "      <td>1.734472</td>\n",
       "      <td>-1.352877</td>\n",
       "    </tr>\n",
       "    <tr>\n",
       "      <th>8</th>\n",
       "      <td>2</td>\n",
       "      <td>2001</td>\n",
       "      <td>0</td>\n",
       "      <td>-1.688872</td>\n",
       "      <td>0.433992</td>\n",
       "      <td>0.043044</td>\n",
       "      <td>0.350176</td>\n",
       "      <td>-1.811053</td>\n",
       "    </tr>\n",
       "    <tr>\n",
       "      <th>9</th>\n",
       "      <td>2</td>\n",
       "      <td>2002</td>\n",
       "      <td>0</td>\n",
       "      <td>-1.966991</td>\n",
       "      <td>-0.700142</td>\n",
       "      <td>0.011040</td>\n",
       "      <td>-0.110748</td>\n",
       "      <td>-1.789099</td>\n",
       "    </tr>\n",
       "  </tbody>\n",
       "</table>\n",
       "</div>"
      ],
      "text/plain": [
       "   Firm ID  Year  Default     WC/TA     RE/TA   EBIT/TA     ME/TA      S/TA\n",
       "0        1  1999        0 -1.781262  0.064049  2.294712 -1.472263 -0.773069\n",
       "1        1  2000        0 -1.244437  1.183653 -0.595172  0.763392 -1.646494\n",
       "2        1  2001        0 -1.134030 -0.976710 -0.016250 -0.724449 -0.623595\n",
       "3        1  2002        0 -2.064973  1.117935 -0.627693 -0.070710 -1.906346\n",
       "4        1  2003        0 -2.171751 -1.019897 -0.092342 -1.362903 -1.209339\n",
       "5        1  2004        0 -0.624840  0.409344  1.613159 -0.724717 -0.142589\n",
       "6        2  1999        0 -0.156292 -2.279849 -0.908938 -0.706711  0.288755\n",
       "7        2  2000        0 -0.298583  0.110922  0.213547  1.734472 -1.352877\n",
       "8        2  2001        0 -1.688872  0.433992  0.043044  0.350176 -1.811053\n",
       "9        2  2002        0 -1.966991 -0.700142  0.011040 -0.110748 -1.789099"
      ]
     },
     "execution_count": 3,
     "metadata": {},
     "output_type": "execute_result"
    }
   ],
   "source": [
    "data.head(10)"
   ]
  },
  {
   "cell_type": "code",
   "execution_count": 4,
   "metadata": {},
   "outputs": [
    {
     "name": "stdout",
     "output_type": "stream",
     "text": [
      "<class 'pandas.core.frame.DataFrame'>\n",
      "RangeIndex: 4000 entries, 0 to 3999\n",
      "Data columns (total 8 columns):\n",
      "Firm ID    4000 non-null int64\n",
      "Year       4000 non-null int64\n",
      "Default    4000 non-null int64\n",
      "WC/TA      4000 non-null float64\n",
      "RE/TA      4000 non-null float64\n",
      "EBIT/TA    4000 non-null float64\n",
      "ME/TA      4000 non-null float64\n",
      "S/TA       4000 non-null float64\n",
      "dtypes: float64(5), int64(3)\n",
      "memory usage: 250.1 KB\n"
     ]
    }
   ],
   "source": [
    "data.info()"
   ]
  },
  {
   "cell_type": "markdown",
   "metadata": {},
   "source": [
    "#### Input variables"
   ]
  },
  {
   "cell_type": "markdown",
   "metadata": {},
   "source": [
    "### Data exploration"
   ]
  },
  {
   "cell_type": "code",
   "execution_count": 5,
   "metadata": {},
   "outputs": [
    {
     "data": {
      "text/plain": [
       "1    2000\n",
       "0    2000\n",
       "Name: Default, dtype: int64"
      ]
     },
     "execution_count": 5,
     "metadata": {},
     "output_type": "execute_result"
    }
   ],
   "source": [
    "data['Default'].value_counts()"
   ]
  },
  {
   "cell_type": "code",
   "execution_count": 6,
   "metadata": {},
   "outputs": [
    {
     "data": {
      "image/png": "[encoded data removed]",
      "text/plain": [
       "<Figure size 432x288 with 1 Axes>"
      ]
     },
     "metadata": {},
     "output_type": "display_data"
    },
    {
     "data": {
      "text/plain": [
       "<Figure size 432x288 with 0 Axes>"
      ]
     },
     "metadata": {},
     "output_type": "display_data"
    }
   ],
   "source": [
    "sns.countplot(x='Default',data=data, palette='hls')\n",
    "plt.show()\n",
    "plt.savefig('count_plot')"
   ]
  },
  {
   "cell_type": "markdown",
   "metadata": {},
   "source": [
    "There are 296 no's and 1023 yes's in the outcome variables."
   ]
  },
  {
   "cell_type": "markdown",
   "metadata": {},
   "source": [
    "Let's get a sense of the numbers across the two classes"
   ]
  },
  {
   "cell_type": "code",
   "execution_count": 7,
   "metadata": {},
   "outputs": [
    {
     "data": {
      "text/html": [
       "<div>\n",
       "<style scoped>\n",
       "    .dataframe tbody tr th:only-of-type {\n",
       "        vertical-align: middle;\n",
       "    }\n",
       "\n",
       "    .dataframe tbody tr th {\n",
       "        vertical-align: top;\n",
       "    }\n",
       "\n",
       "    .dataframe thead th {\n",
       "        text-align: right;\n",
       "    }\n",
       "</style>\n",
       "<table border=\"1\" class=\"dataframe\">\n",
       "  <thead>\n",
       "    <tr style=\"text-align: right;\">\n",
       "      <th></th>\n",
       "      <th>Firm ID</th>\n",
       "      <th>Year</th>\n",
       "      <th>WC/TA</th>\n",
       "      <th>RE/TA</th>\n",
       "      <th>EBIT/TA</th>\n",
       "      <th>ME/TA</th>\n",
       "      <th>S/TA</th>\n",
       "    </tr>\n",
       "    <tr>\n",
       "      <th>Default</th>\n",
       "      <th></th>\n",
       "      <th></th>\n",
       "      <th></th>\n",
       "      <th></th>\n",
       "      <th></th>\n",
       "      <th></th>\n",
       "      <th></th>\n",
       "    </tr>\n",
       "  </thead>\n",
       "  <tbody>\n",
       "    <tr>\n",
       "      <th>0</th>\n",
       "      <td>167.167</td>\n",
       "      <td>2001.498</td>\n",
       "      <td>-1.002510</td>\n",
       "      <td>0.026494</td>\n",
       "      <td>0.038728</td>\n",
       "      <td>-0.010614</td>\n",
       "      <td>-0.940141</td>\n",
       "    </tr>\n",
       "    <tr>\n",
       "      <th>1</th>\n",
       "      <td>500.500</td>\n",
       "      <td>2001.500</td>\n",
       "      <td>0.987538</td>\n",
       "      <td>-0.004162</td>\n",
       "      <td>-0.016554</td>\n",
       "      <td>0.015312</td>\n",
       "      <td>0.923102</td>\n",
       "    </tr>\n",
       "  </tbody>\n",
       "</table>\n",
       "</div>"
      ],
      "text/plain": [
       "         Firm ID      Year     WC/TA     RE/TA   EBIT/TA     ME/TA      S/TA\n",
       "Default                                                                     \n",
       "0        167.167  2001.498 -1.002510  0.026494  0.038728 -0.010614 -0.940141\n",
       "1        500.500  2001.500  0.987538 -0.004162 -0.016554  0.015312  0.923102"
      ]
     },
     "execution_count": 7,
     "metadata": {},
     "output_type": "execute_result"
    }
   ],
   "source": [
    "data.groupby('Default').mean()"
   ]
  },
  {
   "cell_type": "code",
   "execution_count": 8,
   "metadata": {},
   "outputs": [
    {
     "data": {
      "text/plain": [
       "array(['Firm ID', 'Year', 'Default', 'WC/TA', 'RE/TA', 'EBIT/TA', 'ME/TA',\n",
       "       'S/TA'], dtype=object)"
      ]
     },
     "execution_count": 8,
     "metadata": {},
     "output_type": "execute_result"
    }
   ],
   "source": [
    "data_final=data\n",
    "data_final.columns.values"
   ]
  },
  {
   "cell_type": "code",
   "execution_count": 9,
   "metadata": {},
   "outputs": [],
   "source": [
    "data_final.drop(['Firm ID','Year'], axis=1, inplace=True)"
   ]
  },
  {
   "cell_type": "code",
   "execution_count": 10,
   "metadata": {},
   "outputs": [],
   "source": [
    "X = data_final.loc[:, data_final.columns != 'Default']\n",
    "y = data_final.loc[:, data_final.columns == 'Default']\n",
    "y=y.astype('int')"
   ]
  },
  {
   "cell_type": "markdown",
   "metadata": {},
   "source": [
    "### Recursive Feature Elimination"
   ]
  },
  {
   "cell_type": "code",
   "execution_count": 11,
   "metadata": {},
   "outputs": [
    {
     "name": "stdout",
     "output_type": "stream",
     "text": [
      "[ True  True  True  True  True]\n",
      "[1 1 1 1 1]\n"
     ]
    }
   ],
   "source": [
    "from sklearn.feature_selection import RFE\n",
    "from sklearn.linear_model import LogisticRegression\n",
    "logreg = LogisticRegression()\n",
    "\n",
    "rfe = RFE(logreg, 20)\n",
    "rfe = rfe.fit(X, y.values.ravel())\n",
    "print(rfe.support_)\n",
    "print(rfe.ranking_)"
   ]
  },
  {
   "cell_type": "code",
   "execution_count": 12,
   "metadata": {},
   "outputs": [
    {
     "data": {
      "text/html": [
       "<div>\n",
       "<style scoped>\n",
       "    .dataframe tbody tr th:only-of-type {\n",
       "        vertical-align: middle;\n",
       "    }\n",
       "\n",
       "    .dataframe tbody tr th {\n",
       "        vertical-align: top;\n",
       "    }\n",
       "\n",
       "    .dataframe thead th {\n",
       "        text-align: right;\n",
       "    }\n",
       "</style>\n",
       "<table border=\"1\" class=\"dataframe\">\n",
       "  <thead>\n",
       "    <tr style=\"text-align: right;\">\n",
       "      <th></th>\n",
       "      <th>Feature</th>\n",
       "      <th>Importance</th>\n",
       "    </tr>\n",
       "  </thead>\n",
       "  <tbody>\n",
       "    <tr>\n",
       "      <th>0</th>\n",
       "      <td>WC/TA</td>\n",
       "      <td>1</td>\n",
       "    </tr>\n",
       "    <tr>\n",
       "      <th>1</th>\n",
       "      <td>RE/TA</td>\n",
       "      <td>1</td>\n",
       "    </tr>\n",
       "    <tr>\n",
       "      <th>2</th>\n",
       "      <td>EBIT/TA</td>\n",
       "      <td>1</td>\n",
       "    </tr>\n",
       "    <tr>\n",
       "      <th>3</th>\n",
       "      <td>ME/TA</td>\n",
       "      <td>1</td>\n",
       "    </tr>\n",
       "    <tr>\n",
       "      <th>4</th>\n",
       "      <td>S/TA</td>\n",
       "      <td>1</td>\n",
       "    </tr>\n",
       "  </tbody>\n",
       "</table>\n",
       "</div>"
      ],
      "text/plain": [
       "   Feature  Importance\n",
       "0    WC/TA           1\n",
       "1    RE/TA           1\n",
       "2  EBIT/TA           1\n",
       "3    ME/TA           1\n",
       "4     S/TA           1"
      ]
     },
     "execution_count": 12,
     "metadata": {},
     "output_type": "execute_result"
    }
   ],
   "source": [
    "sf_X2 = pd.DataFrame({\n",
    "    'Feature': X.columns,\n",
    "    'Importance': rfe.ranking_},)\n",
    "sf_X2.sort_values(by=['Importance'])"
   ]
  },
  {
   "cell_type": "code",
   "execution_count": 13,
   "metadata": {},
   "outputs": [
    {
     "name": "stdout",
     "output_type": "stream",
     "text": [
      "['WC/TA', 'RE/TA', 'EBIT/TA', 'ME/TA', 'S/TA']\n",
      "5\n"
     ]
    }
   ],
   "source": [
    "cols=[]\n",
    "for i in range (0, len(sf_X2[\"Importance\"])):\n",
    "    if sf_X2[\"Importance\"][i] == 1:\n",
    "        cols.append(sf_X2[\"Feature\"][i])\n",
    "print(cols)\n",
    "print(len(cols))"
   ]
  },
  {
   "cell_type": "markdown",
   "metadata": {},
   "source": [
    "The Recursive Feature Elimination (RFE) has helped us select the following features: 'DerogatoryReports', 'Age', 'Income', 'DebtToIncome', 'MonthlyDebt', 'DependentsNumber', 'MonthsAtCurrentAddress','NumberOfCreditCards', 'NumberOfActiveAccounts', 'HomeOwner_no', 'HomeOwner_yes', 'SelfEmployed_no', 'SelfEmployed_yes'."
   ]
  },
  {
   "cell_type": "code",
   "execution_count": 14,
   "metadata": {},
   "outputs": [],
   "source": [
    "X=X[cols]\n",
    "y=y['Default']"
   ]
  },
  {
   "cell_type": "markdown",
   "metadata": {},
   "source": [
    "### Implementing the model"
   ]
  },
  {
   "cell_type": "code",
   "execution_count": 15,
   "metadata": {},
   "outputs": [
    {
     "name": "stdout",
     "output_type": "stream",
     "text": [
      "Warning: Maximum number of iterations has been exceeded.\n",
      "         Current function value: 0.302136\n",
      "         Iterations: 35\n",
      "                             Results: Logit\n",
      "=========================================================================\n",
      "Model:                 Logit               Pseudo R-squared:    0.564    \n",
      "Dependent Variable:    Default             AIC:                 2429.0909\n",
      "Date:                  2020-05-29 16:57    BIC:                 2466.8552\n",
      "No. Observations:      4000                Log-Likelihood:      -1208.5  \n",
      "Df Model:              5                   LL-Null:             -2772.6  \n",
      "Df Residuals:          3994                LLR p-value:         0.0000   \n",
      "Converged:             0.0000              Scale:               1.0000   \n",
      "No. Iterations:        35.0000                                           \n",
      "-------------------------------------------------------------------------\n",
      "         Coef.     Std.Err.      z    P>|z|      [0.025         0.975]   \n",
      "-------------------------------------------------------------------------\n",
      "const    0.1185        0.0528  2.2455 0.0247         0.0151        0.2219\n",
      "WC/TA    1.2093  9865814.5900  0.0000 1.0000 -19336640.0653 19336642.4839\n",
      "RE/TA   -0.0582        0.0516 -1.1282 0.2592        -0.1593        0.0429\n",
      "EBIT/TA -0.0818        0.0525 -1.5575 0.1194        -0.1848        0.0211\n",
      "ME/TA    0.3716  6450601.9533  0.0000 1.0000 -12642947.1355 12642947.8787\n",
      "S/TA     1.3852 10447484.0350  0.0000 1.0000 -20476691.0525 20476693.8228\n",
      "=========================================================================\n",
      "\n"
     ]
    },
    {
     "name": "stderr",
     "output_type": "stream",
     "text": [
      "C:\\ProgramData\\Anaconda3\\lib\\site-packages\\numpy\\core\\fromnumeric.py:2542: FutureWarning: Method .ptp is deprecated and will be removed in a future version. Use numpy.ptp instead.\n",
      "  return ptp(axis=axis, out=out, **kwargs)\n",
      "C:\\ProgramData\\Anaconda3\\lib\\site-packages\\statsmodels\\base\\model.py:512: ConvergenceWarning: Maximum Likelihood optimization failed to converge. Check mle_retvals\n",
      "  \"Check mle_retvals\", ConvergenceWarning)\n"
     ]
    }
   ],
   "source": [
    "import statsmodels.api as sm\n",
    "# Add a constant to the independent value\n",
    "X1 = sm.add_constant(X)\n",
    "logit_model=sm.Logit(y,X1)\n",
    "result=logit_model.fit()\n",
    "print(result.summary2())"
   ]
  },
  {
   "cell_type": "markdown",
   "metadata": {},
   "source": [
    "### GradientBoostingClassifier Model Fitting"
   ]
  },
  {
   "cell_type": "code",
   "execution_count": 16,
   "metadata": {},
   "outputs": [
    {
     "data": {
      "text/plain": [
       "RandomForestClassifier(bootstrap=True, ccp_alpha=0.0, class_weight=None,\n",
       "                       criterion='gini', max_depth=None, max_features='auto',\n",
       "                       max_leaf_nodes=None, max_samples=None,\n",
       "                       min_impurity_decrease=0.0, min_impurity_split=None,\n",
       "                       min_samples_leaf=1, min_samples_split=2,\n",
       "                       min_weight_fraction_leaf=0.0, n_estimators=100,\n",
       "                       n_jobs=None, oob_score=False, random_state=None,\n",
       "                       verbose=0, warm_start=False)"
      ]
     },
     "execution_count": 16,
     "metadata": {},
     "output_type": "execute_result"
    }
   ],
   "source": [
    "X_train, X_test, y_train, y_test = train_test_split(X, y, test_size=0.3, random_state=0)\n",
    "from sklearn.ensemble import RandomForestClassifier\n",
    "from sklearn import metrics\n",
    "gb = RandomForestClassifier()\n",
    "gb.fit(X_train, y_train)"
   ]
  },
  {
   "cell_type": "markdown",
   "metadata": {},
   "source": [
    "### Predicting the test set results and caculating the accuracy"
   ]
  },
  {
   "cell_type": "code",
   "execution_count": 17,
   "metadata": {},
   "outputs": [],
   "source": [
    "y_pred = gb.predict(X_test)"
   ]
  },
  {
   "cell_type": "code",
   "execution_count": 18,
   "metadata": {},
   "outputs": [
    {
     "name": "stdout",
     "output_type": "stream",
     "text": [
      "Accuracy of gradient boosting classifier on test set: 0.94\n"
     ]
    }
   ],
   "source": [
    "print('Accuracy of gradient boosting classifier on test set: {:.2f}'.format(gb.score(X_test, y_test)))"
   ]
  },
  {
   "cell_type": "markdown",
   "metadata": {},
   "source": [
    "### Compute precision, recall, F-measure and support\n",
    "\n",
    "The precision is the ratio tp / (tp + fp) where tp is the number of true positives and fp the number of false positives. The precision is intuitively the ability of the classifier not to label as positive a sample that is negative.\n",
    "\n",
    "The recall is the ratio tp / (tp + fn) where tp is the number of true positives and fn the number of false negatives. The recall is intuitively the ability of the classifier to find all the positive samples.\n",
    "\n",
    "The F-beta score can be interpreted as a weighted harmonic mean of the precision and recall, where an F-beta score reaches its best value at 1 and worst score at 0.\n",
    "\n",
    "The F-beta score weights recall more than precision by a factor of beta. beta == 1.0 means recall and precision are equally important.\n",
    "\n",
    "The support is the number of occurrences of each class in y_test."
   ]
  },
  {
   "cell_type": "code",
   "execution_count": 19,
   "metadata": {},
   "outputs": [
    {
     "name": "stdout",
     "output_type": "stream",
     "text": [
      "              precision    recall  f1-score   support\n",
      "\n",
      "           0       0.93      0.95      0.94       601\n",
      "           1       0.95      0.93      0.94       599\n",
      "\n",
      "    accuracy                           0.94      1200\n",
      "   macro avg       0.94      0.94      0.94      1200\n",
      "weighted avg       0.94      0.94      0.94      1200\n",
      "\n"
     ]
    }
   ],
   "source": [
    "from sklearn.metrics import classification_report\n",
    "print(classification_report(y_test, y_pred))"
   ]
  },
  {
   "cell_type": "code",
   "execution_count": 20,
   "metadata": {},
   "outputs": [
    {
     "name": "stdout",
     "output_type": "stream",
     "text": [
      "Accuracy of gradient boosting classifier model: 94.08%\n",
      "Well, we got a classification rate of 94.08%\n",
      "\n",
      "Precision of gradient boosting classifier model: 94.90%\n",
      "Precision: Precision is about being precise, i.e., how precise your model is. In other words, we can\n",
      " say, when a model makes a prediction, how often it is correct. In our prediction case, when our\n",
      " gradient boosting classifier model predicted an applicant is going to accept a credit card, that\n",
      " applicant actually accepted 94.90% of the time.\n",
      "\n",
      "Recall of gradient boosting classifier model: 93.16%\n",
      "Recall: If there is an applicant who accepted a credit card present in the test set and our gradient\n",
      " boosting classifier model can identify it 93.16% of the time.\n"
     ]
    }
   ],
   "source": [
    " #calculate Accuracy, how often is the classifier correct?\n",
    "print(\"Accuracy of gradient boosting classifier model:\", \"{:.2%}\".format(metrics.accuracy_score(y_test, y_pred)))\n",
    "print(\"Well, we got a classification rate of\", \"{:.2%}\".format(metrics.accuracy_score(y_test, y_pred)))\n",
    "#calculate Precision\n",
    "print(\"\\nPrecision of gradient boosting classifier model:\", \"{:.2%}\".format(metrics.precision_score(y_test, y_pred)))\n",
    "print(\"Precision: Precision is about being precise, i.e., how precise your model is. In other words, we can\\n say, when a model makes a prediction, how often it is correct. In our prediction case, when our\\n gradient boosting classifier model predicted an applicant is going to accept a credit card, that\\n applicant actually accepted\", \"{:.2%}\".format(metrics.precision_score(y_test, y_pred)) ,\"of the time.\")\n",
    "#calculate Recall\n",
    "print(\"\\nRecall of gradient boosting classifier model:\", \"{:.2%}\".format(metrics.recall_score(y_test, y_pred)))\n",
    "print(\"Recall: If there is an applicant who accepted a credit card present in the test set and our gradient\\n boosting classifier model can identify it\", \"{:.2%}\".format(metrics.recall_score(y_test, y_pred)) ,\"of the time.\")"
   ]
  },
  {
   "cell_type": "markdown",
   "metadata": {},
   "source": [
    "### Confusion Matrix"
   ]
  },
  {
   "cell_type": "code",
   "execution_count": 21,
   "metadata": {},
   "outputs": [
    {
     "name": "stdout",
     "output_type": "stream",
     "text": [
      "[[571  30]\n",
      " [ 41 558]]\n"
     ]
    }
   ],
   "source": [
    "from sklearn.metrics import confusion_matrix\n",
    "confusion_matrix = confusion_matrix(y_test, y_pred)\n",
    "print(confusion_matrix)"
   ]
  },
  {
   "cell_type": "code",
   "execution_count": 22,
   "metadata": {},
   "outputs": [
    {
     "name": "stdout",
     "output_type": "stream",
     "text": [
      "The result is telling us that we have:  1129 correct predictions.\n",
      "The result is telling us that we have:  71 incorrect predictions.\n",
      "We have a total predictions of:  1200\n"
     ]
    }
   ],
   "source": [
    "print(\"The result is telling us that we have: \",(confusion_matrix[0,0]+confusion_matrix[1,1]),\"correct predictions.\")\n",
    "print(\"The result is telling us that we have: \",(confusion_matrix[0,1]+confusion_matrix[1,0]),\"incorrect predictions.\")\n",
    "print(\"We have a total predictions of: \",(confusion_matrix.sum()))"
   ]
  },
  {
   "cell_type": "markdown",
   "metadata": {},
   "source": [
    "### ROC Curves"
   ]
  },
  {
   "cell_type": "code",
   "execution_count": 23,
   "metadata": {},
   "outputs": [
    {
     "data": {
      "image/png": "[encoded data removed]",
      "text/plain": [
       "<Figure size 432x288 with 1 Axes>"
      ]
     },
     "metadata": {},
     "output_type": "display_data"
    }
   ],
   "source": [
    "from sklearn.metrics import roc_auc_score\n",
    "from sklearn.metrics import roc_curve\n",
    "gb_roc_auc = roc_auc_score(y_test, gb.predict(X_test))\n",
    "fpr, tpr, thresholds = roc_curve(y_test, gb.predict_proba(X_test)[:,1])\n",
    "plt.figure()\n",
    "plt.plot(fpr, tpr, label='Logistic Regression (area = %0.2f)' % gb_roc_auc)\n",
    "plt.plot([0, 1], [0, 1],'r--')\n",
    "plt.xlim([0.0, 1.0])\n",
    "plt.ylim([0.0, 1.05])\n",
    "plt.xlabel('False Positive Rate')\n",
    "plt.ylabel('True Positive Rate')\n",
    "plt.title('Receiver operating characteristic')\n",
    "plt.legend(loc=\"lower right\")\n",
    "plt.savefig('Log_ROC')\n",
    "plt.show()"
   ]
  },
  {
   "cell_type": "code",
   "execution_count": 24,
   "metadata": {},
   "outputs": [
    {
     "data": {
      "text/html": [
       "<div>\n",
       "<style scoped>\n",
       "    .dataframe tbody tr th:only-of-type {\n",
       "        vertical-align: middle;\n",
       "    }\n",
       "\n",
       "    .dataframe tbody tr th {\n",
       "        vertical-align: top;\n",
       "    }\n",
       "\n",
       "    .dataframe thead th {\n",
       "        text-align: right;\n",
       "    }\n",
       "</style>\n",
       "<table border=\"1\" class=\"dataframe\">\n",
       "  <thead>\n",
       "    <tr style=\"text-align: right;\">\n",
       "      <th></th>\n",
       "      <th>PD</th>\n",
       "    </tr>\n",
       "  </thead>\n",
       "  <tbody>\n",
       "    <tr>\n",
       "      <th>0</th>\n",
       "      <td>0.00</td>\n",
       "    </tr>\n",
       "    <tr>\n",
       "      <th>1</th>\n",
       "      <td>0.03</td>\n",
       "    </tr>\n",
       "    <tr>\n",
       "      <th>2</th>\n",
       "      <td>0.03</td>\n",
       "    </tr>\n",
       "    <tr>\n",
       "      <th>3</th>\n",
       "      <td>0.01</td>\n",
       "    </tr>\n",
       "    <tr>\n",
       "      <th>4</th>\n",
       "      <td>0.01</td>\n",
       "    </tr>\n",
       "    <tr>\n",
       "      <th>5</th>\n",
       "      <td>0.03</td>\n",
       "    </tr>\n",
       "    <tr>\n",
       "      <th>6</th>\n",
       "      <td>0.16</td>\n",
       "    </tr>\n",
       "    <tr>\n",
       "      <th>7</th>\n",
       "      <td>0.01</td>\n",
       "    </tr>\n",
       "    <tr>\n",
       "      <th>8</th>\n",
       "      <td>0.00</td>\n",
       "    </tr>\n",
       "    <tr>\n",
       "      <th>9</th>\n",
       "      <td>0.00</td>\n",
       "    </tr>\n",
       "  </tbody>\n",
       "</table>\n",
       "</div>"
      ],
      "text/plain": [
       "     PD\n",
       "0  0.00\n",
       "1  0.03\n",
       "2  0.03\n",
       "3  0.01\n",
       "4  0.01\n",
       "5  0.03\n",
       "6  0.16\n",
       "7  0.01\n",
       "8  0.00\n",
       "9  0.00"
      ]
     },
     "execution_count": 24,
     "metadata": {},
     "output_type": "execute_result"
    }
   ],
   "source": [
    "data['PD'] = gb.predict_proba(data[X_train.columns])[:,1]\n",
    "data[['PD']].head(10)"
   ]
  },
  {
   "cell_type": "code",
   "execution_count": 25,
   "metadata": {},
   "outputs": [],
   "source": [
    "data.to_csv('PD.csv', encoding='utf-8')"
   ]
  }
 ],
 "metadata": {
  "kernelspec": {
   "display_name": "Python 3",
   "language": "python",
   "name": "python3"
  },
  "language_info": {
   "codemirror_mode": {
    "name": "ipython",
    "version": 3
   },
   "file_extension": ".py",
   "mimetype": "text/x-python",
   "name": "python",
   "nbconvert_exporter": "python",
   "pygments_lexer": "ipython3",
   "version": "3.7.6"
  }
 },
 "nbformat": 4,
 "nbformat_minor": 2
}
